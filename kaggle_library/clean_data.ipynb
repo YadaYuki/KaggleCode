{
 "cells": [
  {
   "cell_type": "code",
   "execution_count": 1,
   "metadata": {},
   "outputs": [],
   "source": [
    "import pandas as pd\n",
    "import numpy as np\n",
    "import lightgbm as lgb"
   ]
  },
  {
   "cell_type": "code",
   "execution_count": 2,
   "metadata": {},
   "outputs": [],
   "source": [
    "PATH =  \"ashrae-energy-prediction/\"\n",
    "#train_df = pd.read_csv(PATH + \"train.csv\")\n",
    "building_metadata_df = pd.read_csv(PATH + \"building_metadata.csv\")\n",
    "#weather_train_df = pd.read_csv(PATH + \"weather_train.csv\")"
   ]
  },
  {
   "cell_type": "code",
   "execution_count": 4,
   "metadata": {},
   "outputs": [],
   "source": [
    "def get_memory():\n",
    "    import psutil \n",
    "    mem = psutil.virtual_memory() \n",
    "    print(\"memory total :\" +str(mem.total))# メモリ使用量を取得 \n",
    "    print(\"memory used :\" +str(mem.used))\n",
    "    print(\"memory available :\" + str(mem.available))"
   ]
  },
  {
   "cell_type": "code",
   "execution_count": 5,
   "metadata": {},
   "outputs": [
    {
     "name": "stdout",
     "output_type": "stream",
     "text": [
      "memory total :31616671744\n",
      "memory used :430161920\n",
      "memory available :30791200768\n"
     ]
    }
   ],
   "source": [
    "get_memory()"
   ]
  },
  {
   "cell_type": "code",
   "execution_count": 54,
   "metadata": {},
   "outputs": [],
   "source": [
    "train_df.to_pickle(PATH + \"train.pkl\")"
   ]
  },
  {
   "cell_type": "code",
   "execution_count": 6,
   "metadata": {},
   "outputs": [],
   "source": [
    "train_df = pd.read_pickle(PATH + \"train.pkl\")"
   ]
  },
  {
   "cell_type": "code",
   "execution_count": 7,
   "metadata": {},
   "outputs": [
    {
     "name": "stdout",
     "output_type": "stream",
     "text": [
      "memory total :31616671744\n",
      "memory used :3511513088\n",
      "memory available :27706458112\n"
     ]
    }
   ],
   "source": [
    "get_memory()"
   ]
  },
  {
   "cell_type": "code",
   "execution_count": 8,
   "metadata": {},
   "outputs": [],
   "source": [
    "test_df = pd.read_csv(PATH + \"test.csv\")\n",
    "#sample_submission_df = pd.read_csv(PATH + \"sample_submission.csv\")\n",
    "weather_test_df = pd.read_csv(PATH + \"weather_test.csv\")"
   ]
  },
  {
   "cell_type": "code",
   "execution_count": 9,
   "metadata": {},
   "outputs": [],
   "source": [
    "test_df = pd.merge(test_df,building_metadata_df,on = \"building_id\",how = \"left\")"
   ]
  },
  {
   "cell_type": "code",
   "execution_count": 10,
   "metadata": {},
   "outputs": [],
   "source": [
    "test_df = pd.merge(test_df,weather_test_df,on = [\"site_id\",\"timestamp\"],how = \"left\")"
   ]
  },
  {
   "cell_type": "code",
   "execution_count": null,
   "metadata": {},
   "outputs": [],
   "source": [
    "test_df.drop(\"row_id\",axis = 1)"
   ]
  },
  {
   "cell_type": "code",
   "execution_count": 11,
   "metadata": {},
   "outputs": [],
   "source": [
    "test_df['timestamp'] = pd.to_datetime(test_df['timestamp'])\n",
    "test_df[\"month\"] = test_df[\"timestamp\"].dt.month\n",
    "test_df[\"year\"] = test_df[\"timestamp\"].dt.year"
   ]
  },
  {
   "cell_type": "code",
   "execution_count": 12,
   "metadata": {},
   "outputs": [],
   "source": [
    "test_df.drop(\"row_id\",axis = 1).to_pickle(PATH + \"test.pkl\")"
   ]
  },
  {
   "cell_type": "code",
   "execution_count": null,
   "metadata": {},
   "outputs": [],
   "source": []
  }
 ],
 "metadata": {
  "kernelspec": {
   "display_name": "Python 3",
   "language": "python",
   "name": "python3"
  },
  "language_info": {
   "codemirror_mode": {
    "name": "ipython",
    "version": 3
   },
   "file_extension": ".py",
   "mimetype": "text/x-python",
   "name": "python",
   "nbconvert_exporter": "python",
   "pygments_lexer": "ipython3",
   "version": "3.7.1"
  }
 },
 "nbformat": 4,
 "nbformat_minor": 2
}

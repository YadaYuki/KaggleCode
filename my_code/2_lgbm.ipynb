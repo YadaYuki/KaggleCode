{
 "cells": [
  {
   "cell_type": "code",
   "execution_count": 1,
   "metadata": {},
   "outputs": [],
   "source": [
    "import pandas as pd\n",
    "import numpy as np\n",
    "import lightgbm as lgb\n",
    "PATH =  \"ashrae-energy-prediction/\""
   ]
  },
  {
   "cell_type": "code",
   "execution_count": 2,
   "metadata": {},
   "outputs": [],
   "source": [
    "train_df = pd.read_pickle(PATH + \"train.pkl\")"
   ]
  },
  {
   "cell_type": "code",
   "execution_count": 3,
   "metadata": {},
   "outputs": [],
   "source": [
    "def target_encoding(train_df,train_target_df,test_df,kf,encoding_columns):\n",
    "    for column in encoding_columns:\n",
    "        encoding_df = pd.DataFrame({\n",
    "            \"explain\":train_df[column],\n",
    "            \"target\":train_target_df\n",
    "        })\n",
    "        # encoding test_df\n",
    "        # calculating mean grouped by explain variable \n",
    "        target_mean_arr = encoding_df.groupby(\"explain\").mean()[\"target\"]\n",
    "        test_df[column] = test_df[column].map(target_mean_arr)\n",
    "        # encoding train_df\n",
    "        train_explain= np.repeat(np.nan,encoding_df.shape[0])\n",
    "        for i1,i2 in kf.split(train_df):\n",
    "            target_mean_arr_train = encoding_df.iloc[i1].groupby(\"explain\").mean()[\"target\"]\n",
    "            train_explain[i2] = train_df.iloc[i2][column].map(target_mean_arr_train)\n",
    "        train_df[column] = train_explain"
   ]
  },
  {
   "cell_type": "code",
   "execution_count": 4,
   "metadata": {},
   "outputs": [],
   "source": [
    "test_df = pd.read_pickle(PATH + \"test.pkl\")"
   ]
  },
  {
   "cell_type": "code",
   "execution_count": 5,
   "metadata": {},
   "outputs": [],
   "source": [
    "train_df.drop(\"timestamp\",axis = 1,inplace = True)\n",
    "test_df.drop(\"timestamp\",axis = 1,inplace = True)"
   ]
  },
  {
   "cell_type": "code",
   "execution_count": 6,
   "metadata": {},
   "outputs": [],
   "source": [
    "from sklearn.model_selection import KFold\n",
    "kf = KFold(n_splits = 4,random_state = 1)"
   ]
  },
  {
   "cell_type": "code",
   "execution_count": 7,
   "metadata": {},
   "outputs": [],
   "source": [
    "target_encoding(train_df,train_df.meter_reading,test_df,kf,[\"primary_use\"])"
   ]
  },
  {
   "cell_type": "code",
   "execution_count": 17,
   "metadata": {},
   "outputs": [],
   "source": [
    "train_target = train_df.meter_reading\n",
    "train_df.drop(\"meter_reading\",axis = 1,inplace = True)"
   ]
  },
  {
   "cell_type": "code",
   "execution_count": 18,
   "metadata": {},
   "outputs": [
    {
     "name": "stderr",
     "output_type": "stream",
     "text": [
      "/home/yada_yuki_entertainment/anaconda3/lib/python3.7/site-packages/lightgbm/engine.py:148: UserWarning: Found `n_estimators` in params. Will use it instead of argument\n",
      "  warnings.warn(\"Found `{}` in params. Will use it instead of argument\".format(alias))\n"
     ]
    },
    {
     "name": "stdout",
     "output_type": "stream",
     "text": [
      "[5]\tvalid_0's l2: 1.52995e+10\n",
      "[10]\tvalid_0's l2: 1.07457e+10\n",
      "[15]\tvalid_0's l2: 7.98037e+09\n",
      "[20]\tvalid_0's l2: 6.34013e+09\n",
      "[25]\tvalid_0's l2: 5.32422e+09\n",
      "[30]\tvalid_0's l2: 4.65562e+09\n",
      "[35]\tvalid_0's l2: 4.23849e+09\n",
      "[40]\tvalid_0's l2: 3.97222e+09\n",
      "[45]\tvalid_0's l2: 3.76321e+09\n",
      "[50]\tvalid_0's l2: 3.62413e+09\n",
      "[55]\tvalid_0's l2: 3.51699e+09\n",
      "[60]\tvalid_0's l2: 3.43255e+09\n",
      "[65]\tvalid_0's l2: 3.35228e+09\n",
      "[70]\tvalid_0's l2: 3.29447e+09\n",
      "[75]\tvalid_0's l2: 3.24767e+09\n",
      "[80]\tvalid_0's l2: 3.22553e+09\n",
      "[85]\tvalid_0's l2: 3.20048e+09\n",
      "[90]\tvalid_0's l2: 3.17683e+09\n",
      "[95]\tvalid_0's l2: 3.14876e+09\n",
      "[100]\tvalid_0's l2: 3.12858e+09\n",
      "[105]\tvalid_0's l2: 3.10728e+09\n",
      "[110]\tvalid_0's l2: 3.0964e+09\n",
      "[115]\tvalid_0's l2: 3.09527e+09\n",
      "[120]\tvalid_0's l2: 3.09183e+09\n",
      "[125]\tvalid_0's l2: 3.08952e+09\n",
      "[130]\tvalid_0's l2: 3.08455e+09\n",
      "[135]\tvalid_0's l2: 3.08345e+09\n",
      "[140]\tvalid_0's l2: 3.0794e+09\n",
      "[145]\tvalid_0's l2: 3.07778e+09\n",
      "[150]\tvalid_0's l2: 3.07046e+09\n",
      "[155]\tvalid_0's l2: 3.06707e+09\n",
      "[160]\tvalid_0's l2: 3.06326e+09\n",
      "[165]\tvalid_0's l2: 3.06217e+09\n",
      "[170]\tvalid_0's l2: 3.06005e+09\n",
      "[175]\tvalid_0's l2: 3.05752e+09\n",
      "[180]\tvalid_0's l2: 3.05513e+09\n",
      "[185]\tvalid_0's l2: 3.05201e+09\n",
      "[190]\tvalid_0's l2: 3.05019e+09\n",
      "[195]\tvalid_0's l2: 3.04789e+09\n",
      "[200]\tvalid_0's l2: 3.04364e+09\n",
      "[205]\tvalid_0's l2: 3.03991e+09\n",
      "[210]\tvalid_0's l2: 3.03904e+09\n",
      "[215]\tvalid_0's l2: 3.03878e+09\n",
      "[220]\tvalid_0's l2: 3.03609e+09\n",
      "[225]\tvalid_0's l2: 3.0359e+09\n",
      "[230]\tvalid_0's l2: 3.03567e+09\n",
      "[235]\tvalid_0's l2: 3.03258e+09\n",
      "[240]\tvalid_0's l2: 3.02903e+09\n",
      "[245]\tvalid_0's l2: 3.02586e+09\n",
      "[250]\tvalid_0's l2: 3.02193e+09\n",
      "[255]\tvalid_0's l2: 3.02176e+09\n",
      "[260]\tvalid_0's l2: 3.01969e+09\n",
      "[265]\tvalid_0's l2: 3.01738e+09\n",
      "[270]\tvalid_0's l2: 3.01345e+09\n",
      "[275]\tvalid_0's l2: 3.01282e+09\n",
      "[280]\tvalid_0's l2: 3.0086e+09\n",
      "[285]\tvalid_0's l2: 3.00177e+09\n",
      "[290]\tvalid_0's l2: 2.99749e+09\n",
      "[295]\tvalid_0's l2: 2.99795e+09\n",
      "[300]\tvalid_0's l2: 2.99512e+09\n",
      "[305]\tvalid_0's l2: 2.98958e+09\n",
      "[310]\tvalid_0's l2: 2.98009e+09\n",
      "[315]\tvalid_0's l2: 2.97763e+09\n",
      "[320]\tvalid_0's l2: 2.97688e+09\n",
      "[325]\tvalid_0's l2: 2.97289e+09\n",
      "[330]\tvalid_0's l2: 2.96498e+09\n",
      "[335]\tvalid_0's l2: 2.96079e+09\n",
      "[340]\tvalid_0's l2: 2.95721e+09\n",
      "[345]\tvalid_0's l2: 2.95701e+09\n",
      "[350]\tvalid_0's l2: 2.95581e+09\n",
      "[355]\tvalid_0's l2: 2.95317e+09\n",
      "[360]\tvalid_0's l2: 2.9517e+09\n",
      "[365]\tvalid_0's l2: 2.95135e+09\n",
      "[370]\tvalid_0's l2: 2.95011e+09\n"
     ]
    }
   ],
   "source": [
    "from sklearn.model_selection import train_test_split\n",
    "X_train ,X_test = train_test_split(train_df,test_size = 0.4,random_state = 1)\n",
    "y_train,y_test = train_test_split(train_target,test_size = 0.4,random_state = 1)\n",
    "\n",
    "# 訓練・テストデータの設定\n",
    "train_data = lgb.Dataset(X_train, label=y_train)\n",
    "eval_data = lgb.Dataset(X_test, label=y_test, reference= train_data)\n",
    "params = {\n",
    "    'objective': 'regression',\n",
    "    \"task\":\"train\",\n",
    "    \"n_estimators\":370,\n",
    "    \"learning_rate\":0.05\n",
    "    #\"num_leaves\":num_leaves\n",
    "    }\n",
    "gbm = lgb.train(\n",
    "        params,\n",
    "        train_data,\n",
    "        valid_sets=eval_data,\n",
    "        num_boost_round=100,\n",
    "        verbose_eval=5\n",
    "   )"
   ]
  },
  {
   "cell_type": "code",
   "execution_count": 20,
   "metadata": {},
   "outputs": [
    {
     "name": "stdout",
     "output_type": "stream",
     "text": [
      "16\n",
      "16\n"
     ]
    },
    {
     "data": {
      "text/plain": [
       "<matplotlib.axes._subplots.AxesSubplot at 0x7f6a6137c0f0>"
      ]
     },
     "execution_count": 20,
     "metadata": {},
     "output_type": "execute_result"
    },
    {
     "data": {
      "image/png": "[encoded data removed]",
      "text/plain": [
       "<Figure size 1800x720 with 1 Axes>"
      ]
     },
     "metadata": {},
     "output_type": "display_data"
    }
   ],
   "source": [
    "import seaborn as sns\n",
    "import matplotlib.pyplot as plt\n",
    "print(len(train_df.columns))\n",
    "print(len(gbm.feature_importance()))\n",
    "feature_importance_df = pd.DataFrame({\n",
    "    \"columns\":train_df.columns,\n",
    "    \"feature_importance\":gbm.feature_importance()\n",
    "})\n",
    "sns.set()\n",
    "sns.set_context(\"notebook\")\n",
    "plt.figure(figsize=(25, 10))\n",
    "sns.barplot(y=\"feature_importance\", x=\"columns\",data=feature_importance_df.sort_values('feature_importance',ascending=False))"
   ]
  },
  {
   "cell_type": "code",
   "execution_count": 15,
   "metadata": {},
   "outputs": [
    {
     "data": {
      "application/javascript": [
       "var notebook_name = document.body.attributes['data-notebook-name'].value\n",
       "IPython.notebook.kernel.execute(`NOTEBOOK_NAME = '${notebook_name}'`);\n"
      ],
      "text/plain": [
       "<IPython.core.display.Javascript object>"
      ]
     },
     "metadata": {},
     "output_type": "display_data"
    }
   ],
   "source": [
    "%%javascript\n",
    "var notebook_name = document.body.attributes['data-notebook-name'].value\n",
    "IPython.notebook.kernel.execute(`NOTEBOOK_NAME = '${notebook_name}'`);"
   ]
  },
  {
   "cell_type": "code",
   "execution_count": 23,
   "metadata": {},
   "outputs": [],
   "source": [
    "import pickle\n",
    "from datetime import datetime\n",
    "with open(NOTEBOOK_NAME + '_model.pickle', mode='wb') as fp:\n",
    "    pickle.dump(gbm, fp)"
   ]
  },
  {
   "cell_type": "code",
   "execution_count": 24,
   "metadata": {},
   "outputs": [
    {
     "name": "stdout",
     "output_type": "stream",
     "text": [
      "Once deleted, variables cannot be recovered. Proceed (y/[n])? y\n"
     ]
    }
   ],
   "source": [
    "%reset"
   ]
  },
  {
   "cell_type": "code",
   "execution_count": 26,
   "metadata": {},
   "outputs": [
    {
     "data": {
      "text/plain": [
       "23"
      ]
     },
     "execution_count": 26,
     "metadata": {},
     "output_type": "execute_result"
    }
   ],
   "source": [
    "import gc\n",
    "gc.collect()"
   ]
  },
  {
   "cell_type": "code",
   "execution_count": 28,
   "metadata": {},
   "outputs": [],
   "source": [
    "import pandas as pd"
   ]
  },
  {
   "cell_type": "code",
   "execution_count": 10,
   "metadata": {},
   "outputs": [
    {
     "data": {
      "text/html": [
       "<div>\n",
       "<style scoped>\n",
       "    .dataframe tbody tr th:only-of-type {\n",
       "        vertical-align: middle;\n",
       "    }\n",
       "\n",
       "    .dataframe tbody tr th {\n",
       "        vertical-align: top;\n",
       "    }\n",
       "\n",
       "    .dataframe thead th {\n",
       "        text-align: right;\n",
       "    }\n",
       "</style>\n",
       "<table border=\"1\" class=\"dataframe\">\n",
       "  <thead>\n",
       "    <tr style=\"text-align: right;\">\n",
       "      <th></th>\n",
       "      <th>building_id</th>\n",
       "      <th>meter</th>\n",
       "      <th>meter_reading</th>\n",
       "      <th>site_id</th>\n",
       "      <th>primary_use</th>\n",
       "      <th>square_feet</th>\n",
       "      <th>year_built</th>\n",
       "      <th>floor_count</th>\n",
       "      <th>air_temperature</th>\n",
       "      <th>cloud_coverage</th>\n",
       "      <th>dew_temperature</th>\n",
       "      <th>precip_depth_1_hr</th>\n",
       "      <th>sea_level_pressure</th>\n",
       "      <th>wind_direction</th>\n",
       "      <th>wind_speed</th>\n",
       "      <th>month</th>\n",
       "      <th>year</th>\n",
       "    </tr>\n",
       "  </thead>\n",
       "  <tbody>\n",
       "    <tr>\n",
       "      <th>0</th>\n",
       "      <td>0</td>\n",
       "      <td>0</td>\n",
       "      <td>0.0</td>\n",
       "      <td>0</td>\n",
       "      <td>4290.770736</td>\n",
       "      <td>7432</td>\n",
       "      <td>2008.0</td>\n",
       "      <td>NaN</td>\n",
       "      <td>25.0</td>\n",
       "      <td>6.0</td>\n",
       "      <td>20.0</td>\n",
       "      <td>NaN</td>\n",
       "      <td>1019.7</td>\n",
       "      <td>0.0</td>\n",
       "      <td>0.0</td>\n",
       "      <td>1</td>\n",
       "      <td>2016</td>\n",
       "    </tr>\n",
       "    <tr>\n",
       "      <th>1</th>\n",
       "      <td>1</td>\n",
       "      <td>0</td>\n",
       "      <td>0.0</td>\n",
       "      <td>0</td>\n",
       "      <td>4290.770736</td>\n",
       "      <td>2720</td>\n",
       "      <td>2004.0</td>\n",
       "      <td>NaN</td>\n",
       "      <td>25.0</td>\n",
       "      <td>6.0</td>\n",
       "      <td>20.0</td>\n",
       "      <td>NaN</td>\n",
       "      <td>1019.7</td>\n",
       "      <td>0.0</td>\n",
       "      <td>0.0</td>\n",
       "      <td>1</td>\n",
       "      <td>2016</td>\n",
       "    </tr>\n",
       "    <tr>\n",
       "      <th>2</th>\n",
       "      <td>2</td>\n",
       "      <td>0</td>\n",
       "      <td>0.0</td>\n",
       "      <td>0</td>\n",
       "      <td>4290.770736</td>\n",
       "      <td>5376</td>\n",
       "      <td>1991.0</td>\n",
       "      <td>NaN</td>\n",
       "      <td>25.0</td>\n",
       "      <td>6.0</td>\n",
       "      <td>20.0</td>\n",
       "      <td>NaN</td>\n",
       "      <td>1019.7</td>\n",
       "      <td>0.0</td>\n",
       "      <td>0.0</td>\n",
       "      <td>1</td>\n",
       "      <td>2016</td>\n",
       "    </tr>\n",
       "    <tr>\n",
       "      <th>3</th>\n",
       "      <td>3</td>\n",
       "      <td>0</td>\n",
       "      <td>0.0</td>\n",
       "      <td>0</td>\n",
       "      <td>4290.770736</td>\n",
       "      <td>23685</td>\n",
       "      <td>2002.0</td>\n",
       "      <td>NaN</td>\n",
       "      <td>25.0</td>\n",
       "      <td>6.0</td>\n",
       "      <td>20.0</td>\n",
       "      <td>NaN</td>\n",
       "      <td>1019.7</td>\n",
       "      <td>0.0</td>\n",
       "      <td>0.0</td>\n",
       "      <td>1</td>\n",
       "      <td>2016</td>\n",
       "    </tr>\n",
       "    <tr>\n",
       "      <th>4</th>\n",
       "      <td>4</td>\n",
       "      <td>0</td>\n",
       "      <td>0.0</td>\n",
       "      <td>0</td>\n",
       "      <td>4290.770736</td>\n",
       "      <td>116607</td>\n",
       "      <td>1975.0</td>\n",
       "      <td>NaN</td>\n",
       "      <td>25.0</td>\n",
       "      <td>6.0</td>\n",
       "      <td>20.0</td>\n",
       "      <td>NaN</td>\n",
       "      <td>1019.7</td>\n",
       "      <td>0.0</td>\n",
       "      <td>0.0</td>\n",
       "      <td>1</td>\n",
       "      <td>2016</td>\n",
       "    </tr>\n",
       "  </tbody>\n",
       "</table>\n",
       "</div>"
      ],
      "text/plain": [
       "   building_id  meter  meter_reading  site_id  primary_use  square_feet  \\\n",
       "0            0      0            0.0        0  4290.770736         7432   \n",
       "1            1      0            0.0        0  4290.770736         2720   \n",
       "2            2      0            0.0        0  4290.770736         5376   \n",
       "3            3      0            0.0        0  4290.770736        23685   \n",
       "4            4      0            0.0        0  4290.770736       116607   \n",
       "\n",
       "   year_built  floor_count  air_temperature  cloud_coverage  dew_temperature  \\\n",
       "0      2008.0          NaN             25.0             6.0             20.0   \n",
       "1      2004.0          NaN             25.0             6.0             20.0   \n",
       "2      1991.0          NaN             25.0             6.0             20.0   \n",
       "3      2002.0          NaN             25.0             6.0             20.0   \n",
       "4      1975.0          NaN             25.0             6.0             20.0   \n",
       "\n",
       "   precip_depth_1_hr  sea_level_pressure  wind_direction  wind_speed  month  \\\n",
       "0                NaN              1019.7             0.0         0.0      1   \n",
       "1                NaN              1019.7             0.0         0.0      1   \n",
       "2                NaN              1019.7             0.0         0.0      1   \n",
       "3                NaN              1019.7             0.0         0.0      1   \n",
       "4                NaN              1019.7             0.0         0.0      1   \n",
       "\n",
       "   year  \n",
       "0  2016  \n",
       "1  2016  \n",
       "2  2016  \n",
       "3  2016  \n",
       "4  2016  "
      ]
     },
     "execution_count": 10,
     "metadata": {},
     "output_type": "execute_result"
    }
   ],
   "source": [
    "train_df.head()"
   ]
  },
  {
   "cell_type": "code",
   "execution_count": 8,
   "metadata": {},
   "outputs": [
    {
     "data": {
      "text/html": [
       "<div>\n",
       "<style scoped>\n",
       "    .dataframe tbody tr th:only-of-type {\n",
       "        vertical-align: middle;\n",
       "    }\n",
       "\n",
       "    .dataframe tbody tr th {\n",
       "        vertical-align: top;\n",
       "    }\n",
       "\n",
       "    .dataframe thead th {\n",
       "        text-align: right;\n",
       "    }\n",
       "</style>\n",
       "<table border=\"1\" class=\"dataframe\">\n",
       "  <thead>\n",
       "    <tr style=\"text-align: right;\">\n",
       "      <th></th>\n",
       "      <th>building_id</th>\n",
       "      <th>meter</th>\n",
       "      <th>site_id</th>\n",
       "      <th>primary_use</th>\n",
       "      <th>square_feet</th>\n",
       "      <th>year_built</th>\n",
       "      <th>floor_count</th>\n",
       "      <th>air_temperature</th>\n",
       "      <th>cloud_coverage</th>\n",
       "      <th>dew_temperature</th>\n",
       "      <th>precip_depth_1_hr</th>\n",
       "      <th>sea_level_pressure</th>\n",
       "      <th>wind_direction</th>\n",
       "      <th>wind_speed</th>\n",
       "      <th>month</th>\n",
       "      <th>year</th>\n",
       "    </tr>\n",
       "  </thead>\n",
       "  <tbody>\n",
       "    <tr>\n",
       "      <th>0</th>\n",
       "      <td>0</td>\n",
       "      <td>0</td>\n",
       "      <td>0</td>\n",
       "      <td>4585.09184</td>\n",
       "      <td>7432</td>\n",
       "      <td>2008.0</td>\n",
       "      <td>NaN</td>\n",
       "      <td>17.8</td>\n",
       "      <td>4.0</td>\n",
       "      <td>11.7</td>\n",
       "      <td>NaN</td>\n",
       "      <td>1021.4</td>\n",
       "      <td>100.0</td>\n",
       "      <td>3.6</td>\n",
       "      <td>1</td>\n",
       "      <td>2017</td>\n",
       "    </tr>\n",
       "    <tr>\n",
       "      <th>1</th>\n",
       "      <td>1</td>\n",
       "      <td>0</td>\n",
       "      <td>0</td>\n",
       "      <td>4585.09184</td>\n",
       "      <td>2720</td>\n",
       "      <td>2004.0</td>\n",
       "      <td>NaN</td>\n",
       "      <td>17.8</td>\n",
       "      <td>4.0</td>\n",
       "      <td>11.7</td>\n",
       "      <td>NaN</td>\n",
       "      <td>1021.4</td>\n",
       "      <td>100.0</td>\n",
       "      <td>3.6</td>\n",
       "      <td>1</td>\n",
       "      <td>2017</td>\n",
       "    </tr>\n",
       "    <tr>\n",
       "      <th>2</th>\n",
       "      <td>2</td>\n",
       "      <td>0</td>\n",
       "      <td>0</td>\n",
       "      <td>4585.09184</td>\n",
       "      <td>5376</td>\n",
       "      <td>1991.0</td>\n",
       "      <td>NaN</td>\n",
       "      <td>17.8</td>\n",
       "      <td>4.0</td>\n",
       "      <td>11.7</td>\n",
       "      <td>NaN</td>\n",
       "      <td>1021.4</td>\n",
       "      <td>100.0</td>\n",
       "      <td>3.6</td>\n",
       "      <td>1</td>\n",
       "      <td>2017</td>\n",
       "    </tr>\n",
       "    <tr>\n",
       "      <th>3</th>\n",
       "      <td>3</td>\n",
       "      <td>0</td>\n",
       "      <td>0</td>\n",
       "      <td>4585.09184</td>\n",
       "      <td>23685</td>\n",
       "      <td>2002.0</td>\n",
       "      <td>NaN</td>\n",
       "      <td>17.8</td>\n",
       "      <td>4.0</td>\n",
       "      <td>11.7</td>\n",
       "      <td>NaN</td>\n",
       "      <td>1021.4</td>\n",
       "      <td>100.0</td>\n",
       "      <td>3.6</td>\n",
       "      <td>1</td>\n",
       "      <td>2017</td>\n",
       "    </tr>\n",
       "    <tr>\n",
       "      <th>4</th>\n",
       "      <td>4</td>\n",
       "      <td>0</td>\n",
       "      <td>0</td>\n",
       "      <td>4585.09184</td>\n",
       "      <td>116607</td>\n",
       "      <td>1975.0</td>\n",
       "      <td>NaN</td>\n",
       "      <td>17.8</td>\n",
       "      <td>4.0</td>\n",
       "      <td>11.7</td>\n",
       "      <td>NaN</td>\n",
       "      <td>1021.4</td>\n",
       "      <td>100.0</td>\n",
       "      <td>3.6</td>\n",
       "      <td>1</td>\n",
       "      <td>2017</td>\n",
       "    </tr>\n",
       "  </tbody>\n",
       "</table>\n",
       "</div>"
      ],
      "text/plain": [
       "   building_id  meter  site_id  primary_use  square_feet  year_built  \\\n",
       "0            0      0        0   4585.09184         7432      2008.0   \n",
       "1            1      0        0   4585.09184         2720      2004.0   \n",
       "2            2      0        0   4585.09184         5376      1991.0   \n",
       "3            3      0        0   4585.09184        23685      2002.0   \n",
       "4            4      0        0   4585.09184       116607      1975.0   \n",
       "\n",
       "   floor_count  air_temperature  cloud_coverage  dew_temperature  \\\n",
       "0          NaN             17.8             4.0             11.7   \n",
       "1          NaN             17.8             4.0             11.7   \n",
       "2          NaN             17.8             4.0             11.7   \n",
       "3          NaN             17.8             4.0             11.7   \n",
       "4          NaN             17.8             4.0             11.7   \n",
       "\n",
       "   precip_depth_1_hr  sea_level_pressure  wind_direction  wind_speed  month  \\\n",
       "0                NaN              1021.4           100.0         3.6      1   \n",
       "1                NaN              1021.4           100.0         3.6      1   \n",
       "2                NaN              1021.4           100.0         3.6      1   \n",
       "3                NaN              1021.4           100.0         3.6      1   \n",
       "4                NaN              1021.4           100.0         3.6      1   \n",
       "\n",
       "   year  \n",
       "0  2017  \n",
       "1  2017  \n",
       "2  2017  \n",
       "3  2017  \n",
       "4  2017  "
      ]
     },
     "execution_count": 8,
     "metadata": {},
     "output_type": "execute_result"
    }
   ],
   "source": [
    "test_df.head()"
   ]
  },
  {
   "cell_type": "code",
   "execution_count": 16,
   "metadata": {},
   "outputs": [
    {
     "ename": "NameError",
     "evalue": "name 'train_target' is not defined",
     "output_type": "error",
     "traceback": [
      "\u001b[0;31m---------------------------------------------------------------------------\u001b[0m",
      "\u001b[0;31mNameError\u001b[0m                                 Traceback (most recent call last)",
      "\u001b[0;32m<ipython-input-16-00697137ba20>\u001b[0m in \u001b[0;36m<module>\u001b[0;34m\u001b[0m\n\u001b[0;32m----> 1\u001b[0;31m \u001b[0;32mdel\u001b[0m \u001b[0mtrain_df\u001b[0m\u001b[0;34m,\u001b[0m\u001b[0mtrain_target\u001b[0m\u001b[0;34m\u001b[0m\u001b[0;34m\u001b[0m\u001b[0m\n\u001b[0m",
      "\u001b[0;31mNameError\u001b[0m: name 'train_target' is not defined"
     ]
    }
   ],
   "source": [
    "del train_df\n"
   ]
  },
  {
   "cell_type": "code",
   "execution_count": 17,
   "metadata": {},
   "outputs": [
    {
     "data": {
      "text/plain": [
       "82"
      ]
     },
     "execution_count": 17,
     "metadata": {},
     "output_type": "execute_result"
    }
   ],
   "source": [
    "import gc\n",
    "gc.collect()"
   ]
  },
  {
   "cell_type": "code",
   "execution_count": 20,
   "metadata": {},
   "outputs": [],
   "source": [
    "import pickle\n",
    "with open(\"Untitled.ipynb_model.pickle\", mode='rb') as fp:\n",
    "    gbm= pickle.load(fp)"
   ]
  },
  {
   "cell_type": "code",
   "execution_count": 21,
   "metadata": {},
   "outputs": [],
   "source": [
    "predict =gbm.predict(test_df)"
   ]
  },
  {
   "cell_type": "code",
   "execution_count": 24,
   "metadata": {},
   "outputs": [],
   "source": [
    "def generate_submission(id_name,test_id,target_name,prediction,NOTEBOOK_NAME,add_word = \"\"):\n",
    "    from datetime import datetime\n",
    "    submission_data = pd.DataFrame({id_name: test_id, target_name: prediction})\n",
    "    submission_file = 'sub_'+ NOTEBOOK_NAME+ '_' + str(datetime.now().strftime('%Y-%m-%d_%H-%M-%S')) + '_'+add_word+'.csv'\n",
    "    submission_data.to_csv(submission_file, index=False)\n",
    "    print(\"file_name = \" , submission_file)\n",
    "    print(submission_data.head())"
   ]
  },
  {
   "cell_type": "code",
   "execution_count": 25,
   "metadata": {},
   "outputs": [
    {
     "name": "stdout",
     "output_type": "stream",
     "text": [
      "file_name =  sub_2_lgbm.ipynb_2019-10-25_10-55-31_First.csv\n",
      "   row_id  meter_reading\n",
      "0       0     124.385476\n",
      "1       1     100.444598\n",
      "2       2      77.322534\n",
      "3       3     100.444598\n",
      "4       4     310.199947\n"
     ]
    }
   ],
   "source": [
    "generate_submission(\"row_id\",test_df.index,\"meter_reading\",predict,NOTEBOOK_NAME,add_word = \"TF\")"
   ]
  },
  {
   "cell_type": "code",
   "execution_count": null,
   "metadata": {},
   "outputs": [],
   "source": []
  }
 ],
 "metadata": {
  "kernelspec": {
   "display_name": "Python 3",
   "language": "python",
   "name": "python3"
  },
  "language_info": {
   "codemirror_mode": {
    "name": "ipython",
    "version": 3
   },
   "file_extension": ".py",
   "mimetype": "text/x-python",
   "name": "python",
   "nbconvert_exporter": "python",
   "pygments_lexer": "ipython3",
   "version": "3.7.1"
  }
 },
 "nbformat": 4,
 "nbformat_minor": 2
}
